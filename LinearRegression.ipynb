{
 "cells": [
  {
   "cell_type": "code",
   "execution_count": 1,
   "id": "ee3befc8",
   "metadata": {},
   "outputs": [],
   "source": [
    "import pandas as pd\n",
    "import numpy as np"
   ]
  },
  {
   "cell_type": "code",
   "execution_count": 44,
   "id": "bbbe7418",
   "metadata": {},
   "outputs": [],
   "source": [
    "class LinearRegressionScratch:\n",
    "    def __init__(self,lr = 0.01,n_iters = 1000):\n",
    "        self.lr = lr\n",
    "        self.n_iters = n_iters\n",
    "        self.weights = None\n",
    "        self.bias = None\n",
    "        \n",
    "    def fit(self,X,y):\n",
    "        n_samples,n_features = X.shape\n",
    "        self.weights = np.zeros(n_features)\n",
    "        self.bias = 0\n",
    "        \n",
    "        for _ in range(self.n_iters):\n",
    "            y_pred = np.dot(X,self.weights) + self.bias\n",
    "            \n",
    "            dw = 1/(n_samples) * np.dot(X.T,(y_pred - y))\n",
    "            db = 1/(n_samples) * np.sum(y_pred - y)\n",
    "            \n",
    "            self.weights -= self.lr*dw\n",
    "            self.bias -= self.lr*db\n",
    "            \n",
    "    def predict(self,X):\n",
    "        return np.dot(X,self.weights) + self.bias\n",
    "    def mse(self,y_true, y_pred):\n",
    "        return np.mean((y_true - y_pred) ** 2)\n",
    "\n",
    "    def r2_score(self,y_true, y_pred):\n",
    "        ss_res = np.sum((y_true - y_pred)**2)\n",
    "        ss_tot = np.sum((y_true - np.mean(y_true))**2)\n",
    "        return 1 - (ss_res / ss_tot)\n"
   ]
  },
  {
   "cell_type": "code",
   "execution_count": 45,
   "id": "5afcfff5",
   "metadata": {},
   "outputs": [],
   "source": [
    "from sklearn.datasets import load_diabetes\n",
    "from sklearn.model_selection import train_test_split\n",
    "data = load_diabetes()\n",
    "X = data.data\n",
    "y = data.target\n",
    "X_train, X_test, y_train, y_test = train_test_split(X, y, test_size=0.2, random_state=42)"
   ]
  },
  {
   "cell_type": "code",
   "execution_count": 46,
   "id": "4da4aadf",
   "metadata": {},
   "outputs": [],
   "source": [
    "model = LinearRegressionScratch()\n",
    "model.fit(X_train,y_train)"
   ]
  },
  {
   "cell_type": "code",
   "execution_count": 47,
   "id": "e7d38e83",
   "metadata": {},
   "outputs": [],
   "source": [
    "y_pred = model.predict(X_test)"
   ]
  },
  {
   "cell_type": "code",
   "execution_count": 48,
   "id": "3f392e50",
   "metadata": {},
   "outputs": [
    {
     "data": {
      "text/plain": [
       "array([155.84757188, 153.79238513, 155.34367501, 163.30563277,\n",
       "       154.12954327, 152.52819809, 159.84290622, 158.87306775,\n",
       "       150.30956512, 152.78060682, 150.54019081, 151.55635273,\n",
       "       146.1825058 , 158.69427749, 151.37113062, 151.63185543,\n",
       "       159.39922821, 160.88352215, 153.38492649, 158.23008282,\n",
       "       154.62659882, 150.76562726, 148.48476701, 156.73726084,\n",
       "       152.15249245, 154.81233224, 155.56283407, 155.27933924,\n",
       "       146.04521908, 153.62432319, 155.24658429, 149.820214  ,\n",
       "       153.32009002, 156.37761441, 156.26297013, 156.77814371,\n",
       "       153.13835393, 154.1077398 , 156.3815746 , 147.54476609,\n",
       "       149.57422027, 151.84095339, 153.28227318, 156.23112929,\n",
       "       154.86915813, 148.08854247, 148.21241648, 148.83046095,\n",
       "       147.10315377, 152.22210168, 150.5250566 , 147.2284558 ,\n",
       "       153.0259995 , 150.56575552, 157.62000373, 151.5037458 ,\n",
       "       151.24725795, 155.8066388 , 150.21184141, 146.66423048,\n",
       "       157.07021606, 154.37223265, 151.60956299, 152.29403152,\n",
       "       152.32461745, 156.37076847, 156.83036086, 154.53087264,\n",
       "       148.34997074, 153.33960769, 155.08377687, 158.22174612,\n",
       "       160.70873242, 152.61183015, 148.74725501, 156.19451671,\n",
       "       158.59256314, 155.66808482, 155.33767093, 156.75121294,\n",
       "       150.47095532, 149.77598892, 147.05533117, 148.60663849,\n",
       "       150.82645417, 148.53983948, 146.10685389, 146.83572433,\n",
       "       152.01520083])"
      ]
     },
     "execution_count": 48,
     "metadata": {},
     "output_type": "execute_result"
    }
   ],
   "source": [
    "y_pred"
   ]
  },
  {
   "cell_type": "code",
   "execution_count": 49,
   "id": "055e5898",
   "metadata": {},
   "outputs": [],
   "source": [
    "mse = model.mse(y_test,y_pred)"
   ]
  },
  {
   "cell_type": "code",
   "execution_count": 50,
   "id": "61723d4a",
   "metadata": {},
   "outputs": [
    {
     "data": {
      "text/plain": [
       "5010.353588276721"
      ]
     },
     "execution_count": 50,
     "metadata": {},
     "output_type": "execute_result"
    }
   ],
   "source": [
    "mse"
   ]
  }
 ],
 "metadata": {
  "kernelspec": {
   "display_name": "Python (venv)",
   "language": "python",
   "name": "venv"
  },
  "language_info": {
   "codemirror_mode": {
    "name": "ipython",
    "version": 3
   },
   "file_extension": ".py",
   "mimetype": "text/x-python",
   "name": "python",
   "nbconvert_exporter": "python",
   "pygments_lexer": "ipython3",
   "version": "3.12.7"
  }
 },
 "nbformat": 4,
 "nbformat_minor": 5
}
